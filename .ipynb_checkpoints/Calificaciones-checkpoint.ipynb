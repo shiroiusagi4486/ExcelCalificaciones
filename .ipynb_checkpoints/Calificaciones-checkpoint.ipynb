{
 "cells": [
  {
   "cell_type": "code",
   "execution_count": 1,
   "metadata": {},
   "outputs": [],
   "source": [
    "import openpyxl\n",
    "import numpy as np\n",
    "import pymongo\n",
    "import easygui as archivo\n",
    "from pymongo import MongoClient"
   ]
  },
  {
   "cell_type": "code",
   "execution_count": 2,
   "metadata": {},
   "outputs": [
    {
     "name": "stderr",
     "output_type": "stream",
     "text": [
      "c:\\program files\\python37\\lib\\site-packages\\openpyxl\\worksheet\\_reader.py:296: UserWarning: Unknown extension is not supported and will be removed\n",
      "  warn(msg)\n",
      "c:\\program files\\python37\\lib\\site-packages\\ipykernel_launcher.py:9: DeprecationWarning: Call to deprecated function get_sheet_by_name (Use wb[sheetname]).\n",
      "  if __name__ == '__main__':\n"
     ]
    },
    {
     "name": "stdout",
     "output_type": "stream",
     "text": [
      "exito con la inserción\n",
      "exito con la inserción\n",
      "exito con la inserción\n",
      "exito con la inserción\n",
      "exito con la inserción\n",
      "exito con la inserción\n",
      "exito con la inserción\n",
      "exito con la inserción\n",
      "exito con la inserción\n",
      "exito con la inserción\n",
      "exito con la inserción\n",
      "exito con la inserción\n",
      "exito con la inserción\n",
      "exito con la inserción\n",
      "exito con la inserción\n",
      "exito con la inserción\n",
      "exito con la inserción\n",
      "exito con la inserción\n",
      "exito con la inserción\n",
      "exito con la inserción\n",
      "exito con la inserción\n",
      "exito con la inserción\n",
      "exito con la inserción\n",
      "exito con la inserción\n",
      "exito con la inserción\n",
      "exito con la inserción\n",
      "exito con la inserción\n",
      "exito con la inserción\n",
      "exito con la inserción\n",
      "exito con la inserción\n",
      "{'Plantel': '', 'Licenciatura': 'Ingeniería en Sistemas Computacionales', 'Profesor': 'Juan Angel Calvillo Perez', 'Asignatura': 'Fisica', 'Clave': None, 'Grupo': '1ZLSIS1B', 'alumnos': 30}\n",
      "leidos de la hoja:  30\n",
      "Insertados:  30\n"
     ]
    },
    {
     "name": "stderr",
     "output_type": "stream",
     "text": [
      "c:\\program files\\python37\\lib\\site-packages\\ipykernel_launcher.py:59: DeprecationWarning: count is deprecated. Use Collection.count_documents instead.\n"
     ]
    }
   ],
   "source": [
    "# connect to database\n",
    "connection = MongoClient('localhost', 27017)\n",
    "db = connection.actas\n",
    "coleccion = db.concentrado\n",
    "\n",
    "extension = [\"*.xlsx\", \"*.xlsm\"]\n",
    "archivo = archivo.fileopenbox(filetypes=extension)\n",
    "wb = openpyxl.load_workbook(archivo)\n",
    "sheet=wb.get_sheet_by_name('Hoja1')\n",
    "materia= {'Plantel':'', 'Licenciatura': '', 'Profesor':'', 'Asignatura':'', 'Clave':'', 'Grupo':'', 'alumnos':''}\n",
    "alumnos={'Matricula':'','Alumno':'','1ero':'','2do':'','3ero':'','cualitativo':'', 'Promedio':''}\n",
    "for col in range(1, sheet.max_column):\n",
    "    for row in range(1, sheet.max_row):\n",
    "        if (sheet.cell(row=row, column=col).value == 'Licenciatura')or (sheet.cell(row=row, column=col).value == 'Profesor')or (sheet.cell(row=row, column=col).value == 'Asignatura')or (sheet.cell(row=row, column=col).value == 'Clave') or (sheet.cell(row=row, column=col).value == 'Grupo'):\n",
    "            materia[sheet.cell(row=row, column=col).value]= sheet.cell(row=row, column=col+2).value\n",
    "for row in range(7, sheet.max_row):\n",
    "    alumno = str(sheet.cell(row=row, column=1).value)\n",
    "    if(alumno.isdigit()==True):\n",
    "        alumnos['Matricula'] = sheet.cell(row=row, column=2).value\n",
    "        alumnos['Alumno'] = sheet.cell(row=row, column=3).value\n",
    "        primero =sheet.cell(row=row, column=4).value\n",
    "        if (primero==None):\n",
    "            alumnos['1ero'] = 0.0\n",
    "        else:\n",
    "            alumnos['1ero'] = float(sheet.cell(row=row, column=4).value)\n",
    "        segundo =sheet.cell(row=row, column=5).value\n",
    "        if (segundo==None):\n",
    "            alumnos['2do'] = 0.0\n",
    "        else:\n",
    "            alumnos['2do'] = float(sheet.cell(row=row, column=5).value)\n",
    "        tercero =sheet.cell(row=row, column=6).value\n",
    "        if (tercero==None):\n",
    "            alumnos['3ero'] = 0.0\n",
    "        else:\n",
    "            alumnos['3ero'] = float(sheet.cell(row=row, column=6).value)\n",
    "        cualitativo =sheet.cell(row=row, column=7).value\n",
    "        if (cualitativo==None):\n",
    "            alumnos['cualitativo'] = 0.0\n",
    "        else:\n",
    "            alumnos['cualitativo'] = float(sheet.cell(row=row, column=7).value)\n",
    "\n",
    "        alumnos['Licenciatura'] = materia.get('Licenciatura')\n",
    "        alumnos['Profesor'] = materia.get('Profesor')\n",
    "        alumnos['Asignatura'] = materia.get('Asignatura')\n",
    "        alumnos['Grupo'] = materia.get('Grupo')\n",
    "        promedio= (alumnos.get('1ero')+alumnos.get('2do')+alumnos.get('3ero'))/3+alumnos.get('cualitativo')\n",
    "        if (promedio<6):\n",
    "            alumnos['Promedio'] = 5.0\n",
    "        else:\n",
    "            alumnos['Promedio']=float(np.rint(promedio))\n",
    "        try:\n",
    "            coleccion.insert_one(alumnos.copy())\n",
    "            print(\"exito con la inserción\")\n",
    "        except Exception as e:\n",
    "            print (\"Error inesperado:\", type(e), e)\n",
    "\n",
    "query = {'Grupo':materia.get('Grupo'), 'Asignatura':alumnos.get('Asignatura')}\n",
    "materia['alumnos'] = sheet.max_row-7\n",
    "resultado = coleccion.find(query).count()\n",
    "print(materia)\n",
    "print(\"leidos de la hoja: \",sheet.max_row-7)\n",
    "print(\"Insertados: \",resultado)"
   ]
  },
  {
   "cell_type": "code",
   "execution_count": 30,
   "metadata": {},
   "outputs": [],
   "source": []
  },
  {
   "cell_type": "code",
   "execution_count": 28,
   "metadata": {},
   "outputs": [],
   "source": []
  },
  {
   "cell_type": "code",
   "execution_count": 29,
   "metadata": {},
   "outputs": [
    {
     "name": "stdout",
     "output_type": "stream",
     "text": [
      "MongoClient(host=['localhost:27017'], document_class=dict, tz_aware=False, connect=True)\n"
     ]
    }
   ],
   "source": []
  },
  {
   "cell_type": "code",
   "execution_count": 19,
   "metadata": {},
   "outputs": [
    {
     "name": "stdout",
     "output_type": "stream",
     "text": [
      "Collection(Database(MongoClient(host=['localhost:27017'], document_class=dict, tz_aware=False, connect=True), 'actas'), 'concentrado')\n"
     ]
    }
   ],
   "source": []
  },
  {
   "cell_type": "code",
   "execution_count": null,
   "metadata": {},
   "outputs": [],
   "source": []
  },
  {
   "cell_type": "code",
   "execution_count": null,
   "metadata": {},
   "outputs": [],
   "source": []
  },
  {
   "cell_type": "code",
   "execution_count": null,
   "metadata": {},
   "outputs": [],
   "source": []
  }
 ],
 "metadata": {
  "kernelspec": {
   "display_name": "Python 3",
   "language": "python",
   "name": "python3"
  },
  "language_info": {
   "codemirror_mode": {
    "name": "ipython",
    "version": 3
   },
   "file_extension": ".py",
   "mimetype": "text/x-python",
   "name": "python",
   "nbconvert_exporter": "python",
   "pygments_lexer": "ipython3",
   "version": "3.7.0"
  }
 },
 "nbformat": 4,
 "nbformat_minor": 2
}
